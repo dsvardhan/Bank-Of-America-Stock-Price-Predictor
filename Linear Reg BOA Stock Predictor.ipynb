{
 "cells": [
  {
   "cell_type": "code",
   "execution_count": 1,
   "id": "55864139",
   "metadata": {},
   "outputs": [],
   "source": [
    "import pandas as pd\n"
   ]
  },
  {
   "cell_type": "code",
   "execution_count": 2,
   "id": "6b9ee9bf",
   "metadata": {},
   "outputs": [],
   "source": [
    "df=pd.read_csv('BAC.csv')"
   ]
  },
  {
   "cell_type": "code",
   "execution_count": 3,
   "id": "8005a2be",
   "metadata": {},
   "outputs": [
    {
     "data": {
      "text/html": [
       "<div>\n",
       "<style scoped>\n",
       "    .dataframe tbody tr th:only-of-type {\n",
       "        vertical-align: middle;\n",
       "    }\n",
       "\n",
       "    .dataframe tbody tr th {\n",
       "        vertical-align: top;\n",
       "    }\n",
       "\n",
       "    .dataframe thead th {\n",
       "        text-align: right;\n",
       "    }\n",
       "</style>\n",
       "<table border=\"1\" class=\"dataframe\">\n",
       "  <thead>\n",
       "    <tr style=\"text-align: right;\">\n",
       "      <th></th>\n",
       "      <th>Date</th>\n",
       "      <th>Open</th>\n",
       "      <th>High</th>\n",
       "      <th>Low</th>\n",
       "      <th>Close</th>\n",
       "      <th>Adj Close</th>\n",
       "      <th>Volume</th>\n",
       "    </tr>\n",
       "  </thead>\n",
       "  <tbody>\n",
       "    <tr>\n",
       "      <th>0</th>\n",
       "      <td>2018-07-02</td>\n",
       "      <td>28.080000</td>\n",
       "      <td>28.280001</td>\n",
       "      <td>27.830000</td>\n",
       "      <td>28.280001</td>\n",
       "      <td>25.186296</td>\n",
       "      <td>52534300</td>\n",
       "    </tr>\n",
       "    <tr>\n",
       "      <th>1</th>\n",
       "      <td>2018-07-03</td>\n",
       "      <td>28.330000</td>\n",
       "      <td>28.430000</td>\n",
       "      <td>27.740000</td>\n",
       "      <td>27.780001</td>\n",
       "      <td>24.740997</td>\n",
       "      <td>40599000</td>\n",
       "    </tr>\n",
       "    <tr>\n",
       "      <th>2</th>\n",
       "      <td>2018-07-05</td>\n",
       "      <td>27.950001</td>\n",
       "      <td>28.080000</td>\n",
       "      <td>27.809999</td>\n",
       "      <td>27.920000</td>\n",
       "      <td>24.865677</td>\n",
       "      <td>44506800</td>\n",
       "    </tr>\n",
       "    <tr>\n",
       "      <th>3</th>\n",
       "      <td>2018-07-06</td>\n",
       "      <td>27.809999</td>\n",
       "      <td>28.150000</td>\n",
       "      <td>27.629999</td>\n",
       "      <td>28.030001</td>\n",
       "      <td>24.963646</td>\n",
       "      <td>39424900</td>\n",
       "    </tr>\n",
       "    <tr>\n",
       "      <th>4</th>\n",
       "      <td>2018-07-09</td>\n",
       "      <td>28.230000</td>\n",
       "      <td>29.090000</td>\n",
       "      <td>28.219999</td>\n",
       "      <td>29.049999</td>\n",
       "      <td>25.872059</td>\n",
       "      <td>61758900</td>\n",
       "    </tr>\n",
       "  </tbody>\n",
       "</table>\n",
       "</div>"
      ],
      "text/plain": [
       "         Date       Open       High        Low      Close  Adj Close    Volume\n",
       "0  2018-07-02  28.080000  28.280001  27.830000  28.280001  25.186296  52534300\n",
       "1  2018-07-03  28.330000  28.430000  27.740000  27.780001  24.740997  40599000\n",
       "2  2018-07-05  27.950001  28.080000  27.809999  27.920000  24.865677  44506800\n",
       "3  2018-07-06  27.809999  28.150000  27.629999  28.030001  24.963646  39424900\n",
       "4  2018-07-09  28.230000  29.090000  28.219999  29.049999  25.872059  61758900"
      ]
     },
     "execution_count": 3,
     "metadata": {},
     "output_type": "execute_result"
    }
   ],
   "source": [
    "df.head()"
   ]
  },
  {
   "cell_type": "code",
   "execution_count": 4,
   "id": "4537b0a1",
   "metadata": {},
   "outputs": [
    {
     "name": "stdout",
     "output_type": "stream",
     "text": [
      "<class 'pandas.core.frame.DataFrame'>\n",
      "RangeIndex: 1258 entries, 0 to 1257\n",
      "Data columns (total 7 columns):\n",
      " #   Column     Non-Null Count  Dtype  \n",
      "---  ------     --------------  -----  \n",
      " 0   Date       1258 non-null   object \n",
      " 1   Open       1258 non-null   float64\n",
      " 2   High       1258 non-null   float64\n",
      " 3   Low        1258 non-null   float64\n",
      " 4   Close      1258 non-null   float64\n",
      " 5   Adj Close  1258 non-null   float64\n",
      " 6   Volume     1258 non-null   int64  \n",
      "dtypes: float64(5), int64(1), object(1)\n",
      "memory usage: 68.9+ KB\n"
     ]
    }
   ],
   "source": [
    "df.info()"
   ]
  },
  {
   "cell_type": "code",
   "execution_count": 5,
   "id": "9778f82a",
   "metadata": {},
   "outputs": [],
   "source": [
    "df.fillna(method='ffill',inplace=True)"
   ]
  },
  {
   "cell_type": "code",
   "execution_count": 6,
   "id": "1e5f05a3",
   "metadata": {},
   "outputs": [
    {
     "name": "stdout",
     "output_type": "stream",
     "text": [
      "0\n"
     ]
    }
   ],
   "source": [
    "print(df.duplicated().sum())"
   ]
  },
  {
   "cell_type": "code",
   "execution_count": 7,
   "id": "80195cfd",
   "metadata": {},
   "outputs": [],
   "source": [
    "df.drop_duplicates(inplace=True)"
   ]
  },
  {
   "cell_type": "code",
   "execution_count": 8,
   "id": "d28575cb",
   "metadata": {},
   "outputs": [],
   "source": [
    "#df['Date']=pd.to_datetime(df['Date'])"
   ]
  },
  {
   "cell_type": "code",
   "execution_count": 9,
   "id": "1198b67d",
   "metadata": {},
   "outputs": [],
   "source": [
    "df=df[['Date','Close']]"
   ]
  },
  {
   "cell_type": "code",
   "execution_count": 10,
   "id": "0fc56836",
   "metadata": {},
   "outputs": [],
   "source": [
    "df.sort_values('Date',inplace=True)"
   ]
  },
  {
   "cell_type": "code",
   "execution_count": 11,
   "id": "ac0b2090",
   "metadata": {},
   "outputs": [
    {
     "data": {
      "text/html": [
       "<div>\n",
       "<style scoped>\n",
       "    .dataframe tbody tr th:only-of-type {\n",
       "        vertical-align: middle;\n",
       "    }\n",
       "\n",
       "    .dataframe tbody tr th {\n",
       "        vertical-align: top;\n",
       "    }\n",
       "\n",
       "    .dataframe thead th {\n",
       "        text-align: right;\n",
       "    }\n",
       "</style>\n",
       "<table border=\"1\" class=\"dataframe\">\n",
       "  <thead>\n",
       "    <tr style=\"text-align: right;\">\n",
       "      <th></th>\n",
       "      <th>Date</th>\n",
       "      <th>Close</th>\n",
       "    </tr>\n",
       "  </thead>\n",
       "  <tbody>\n",
       "    <tr>\n",
       "      <th>0</th>\n",
       "      <td>2018-07-02</td>\n",
       "      <td>28.280001</td>\n",
       "    </tr>\n",
       "    <tr>\n",
       "      <th>1</th>\n",
       "      <td>2018-07-03</td>\n",
       "      <td>27.780001</td>\n",
       "    </tr>\n",
       "    <tr>\n",
       "      <th>2</th>\n",
       "      <td>2018-07-05</td>\n",
       "      <td>27.920000</td>\n",
       "    </tr>\n",
       "    <tr>\n",
       "      <th>3</th>\n",
       "      <td>2018-07-06</td>\n",
       "      <td>28.030001</td>\n",
       "    </tr>\n",
       "    <tr>\n",
       "      <th>4</th>\n",
       "      <td>2018-07-09</td>\n",
       "      <td>29.049999</td>\n",
       "    </tr>\n",
       "    <tr>\n",
       "      <th>...</th>\n",
       "      <td>...</td>\n",
       "      <td>...</td>\n",
       "    </tr>\n",
       "    <tr>\n",
       "      <th>1253</th>\n",
       "      <td>2023-06-26</td>\n",
       "      <td>28.090000</td>\n",
       "    </tr>\n",
       "    <tr>\n",
       "      <th>1254</th>\n",
       "      <td>2023-06-27</td>\n",
       "      <td>28.240000</td>\n",
       "    </tr>\n",
       "    <tr>\n",
       "      <th>1255</th>\n",
       "      <td>2023-06-28</td>\n",
       "      <td>28.070000</td>\n",
       "    </tr>\n",
       "    <tr>\n",
       "      <th>1256</th>\n",
       "      <td>2023-06-29</td>\n",
       "      <td>28.660000</td>\n",
       "    </tr>\n",
       "    <tr>\n",
       "      <th>1257</th>\n",
       "      <td>2023-06-30</td>\n",
       "      <td>28.690001</td>\n",
       "    </tr>\n",
       "  </tbody>\n",
       "</table>\n",
       "<p>1258 rows × 2 columns</p>\n",
       "</div>"
      ],
      "text/plain": [
       "            Date      Close\n",
       "0     2018-07-02  28.280001\n",
       "1     2018-07-03  27.780001\n",
       "2     2018-07-05  27.920000\n",
       "3     2018-07-06  28.030001\n",
       "4     2018-07-09  29.049999\n",
       "...          ...        ...\n",
       "1253  2023-06-26  28.090000\n",
       "1254  2023-06-27  28.240000\n",
       "1255  2023-06-28  28.070000\n",
       "1256  2023-06-29  28.660000\n",
       "1257  2023-06-30  28.690001\n",
       "\n",
       "[1258 rows x 2 columns]"
      ]
     },
     "execution_count": 11,
     "metadata": {},
     "output_type": "execute_result"
    }
   ],
   "source": [
    "df"
   ]
  },
  {
   "cell_type": "code",
   "execution_count": 12,
   "id": "16ae1de0",
   "metadata": {},
   "outputs": [],
   "source": [
    "from sklearn.model_selection import train_test_split\n",
    "from sklearn.linear_model import LinearRegression\n",
    "from sklearn import metrics"
   ]
  },
  {
   "cell_type": "code",
   "execution_count": 13,
   "id": "cccc0d0e",
   "metadata": {},
   "outputs": [],
   "source": [
    "import numpy as np"
   ]
  },
  {
   "cell_type": "code",
   "execution_count": 14,
   "id": "11120ab6",
   "metadata": {},
   "outputs": [],
   "source": [
    "X=df[['Date']].index.values.reshape(-1, 1).astype(np.float64)"
   ]
  },
  {
   "cell_type": "code",
   "execution_count": 15,
   "id": "1d5e7c36",
   "metadata": {},
   "outputs": [
    {
     "name": "stdout",
     "output_type": "stream",
     "text": [
      "[[0.000e+00]\n",
      " [1.000e+00]\n",
      " [2.000e+00]\n",
      " ...\n",
      " [1.255e+03]\n",
      " [1.256e+03]\n",
      " [1.257e+03]]\n"
     ]
    }
   ],
   "source": [
    "print(X)"
   ]
  },
  {
   "cell_type": "code",
   "execution_count": 18,
   "id": "6b83fbd2",
   "metadata": {},
   "outputs": [],
   "source": [
    "y=df[['Close']].values.reshape(-1, 1).astype(np.float64)"
   ]
  },
  {
   "cell_type": "code",
   "execution_count": 19,
   "id": "28a88621",
   "metadata": {},
   "outputs": [
    {
     "name": "stdout",
     "output_type": "stream",
     "text": [
      "[[28.280001]\n",
      " [27.780001]\n",
      " [27.92    ]\n",
      " ...\n",
      " [28.07    ]\n",
      " [28.66    ]\n",
      " [28.690001]]\n"
     ]
    }
   ],
   "source": [
    "print(y)"
   ]
  },
  {
   "cell_type": "code",
   "execution_count": 20,
   "id": "2ebb3bb8",
   "metadata": {},
   "outputs": [],
   "source": [
    "X_train,X_test,y_train,y_test=train_test_split(X,y,test_size=0.2,random_state=0)"
   ]
  },
  {
   "cell_type": "code",
   "execution_count": 21,
   "id": "6d9b1a8a",
   "metadata": {},
   "outputs": [],
   "source": [
    "model=LinearRegression()"
   ]
  },
  {
   "cell_type": "code",
   "execution_count": 22,
   "id": "11b13628",
   "metadata": {},
   "outputs": [
    {
     "data": {
      "text/html": [
       "<style>#sk-container-id-1 {color: black;background-color: white;}#sk-container-id-1 pre{padding: 0;}#sk-container-id-1 div.sk-toggleable {background-color: white;}#sk-container-id-1 label.sk-toggleable__label {cursor: pointer;display: block;width: 100%;margin-bottom: 0;padding: 0.3em;box-sizing: border-box;text-align: center;}#sk-container-id-1 label.sk-toggleable__label-arrow:before {content: \"▸\";float: left;margin-right: 0.25em;color: #696969;}#sk-container-id-1 label.sk-toggleable__label-arrow:hover:before {color: black;}#sk-container-id-1 div.sk-estimator:hover label.sk-toggleable__label-arrow:before {color: black;}#sk-container-id-1 div.sk-toggleable__content {max-height: 0;max-width: 0;overflow: hidden;text-align: left;background-color: #f0f8ff;}#sk-container-id-1 div.sk-toggleable__content pre {margin: 0.2em;color: black;border-radius: 0.25em;background-color: #f0f8ff;}#sk-container-id-1 input.sk-toggleable__control:checked~div.sk-toggleable__content {max-height: 200px;max-width: 100%;overflow: auto;}#sk-container-id-1 input.sk-toggleable__control:checked~label.sk-toggleable__label-arrow:before {content: \"▾\";}#sk-container-id-1 div.sk-estimator input.sk-toggleable__control:checked~label.sk-toggleable__label {background-color: #d4ebff;}#sk-container-id-1 div.sk-label input.sk-toggleable__control:checked~label.sk-toggleable__label {background-color: #d4ebff;}#sk-container-id-1 input.sk-hidden--visually {border: 0;clip: rect(1px 1px 1px 1px);clip: rect(1px, 1px, 1px, 1px);height: 1px;margin: -1px;overflow: hidden;padding: 0;position: absolute;width: 1px;}#sk-container-id-1 div.sk-estimator {font-family: monospace;background-color: #f0f8ff;border: 1px dotted black;border-radius: 0.25em;box-sizing: border-box;margin-bottom: 0.5em;}#sk-container-id-1 div.sk-estimator:hover {background-color: #d4ebff;}#sk-container-id-1 div.sk-parallel-item::after {content: \"\";width: 100%;border-bottom: 1px solid gray;flex-grow: 1;}#sk-container-id-1 div.sk-label:hover label.sk-toggleable__label {background-color: #d4ebff;}#sk-container-id-1 div.sk-serial::before {content: \"\";position: absolute;border-left: 1px solid gray;box-sizing: border-box;top: 0;bottom: 0;left: 50%;z-index: 0;}#sk-container-id-1 div.sk-serial {display: flex;flex-direction: column;align-items: center;background-color: white;padding-right: 0.2em;padding-left: 0.2em;position: relative;}#sk-container-id-1 div.sk-item {position: relative;z-index: 1;}#sk-container-id-1 div.sk-parallel {display: flex;align-items: stretch;justify-content: center;background-color: white;position: relative;}#sk-container-id-1 div.sk-item::before, #sk-container-id-1 div.sk-parallel-item::before {content: \"\";position: absolute;border-left: 1px solid gray;box-sizing: border-box;top: 0;bottom: 0;left: 50%;z-index: -1;}#sk-container-id-1 div.sk-parallel-item {display: flex;flex-direction: column;z-index: 1;position: relative;background-color: white;}#sk-container-id-1 div.sk-parallel-item:first-child::after {align-self: flex-end;width: 50%;}#sk-container-id-1 div.sk-parallel-item:last-child::after {align-self: flex-start;width: 50%;}#sk-container-id-1 div.sk-parallel-item:only-child::after {width: 0;}#sk-container-id-1 div.sk-dashed-wrapped {border: 1px dashed gray;margin: 0 0.4em 0.5em 0.4em;box-sizing: border-box;padding-bottom: 0.4em;background-color: white;}#sk-container-id-1 div.sk-label label {font-family: monospace;font-weight: bold;display: inline-block;line-height: 1.2em;}#sk-container-id-1 div.sk-label-container {text-align: center;}#sk-container-id-1 div.sk-container {/* jupyter's `normalize.less` sets `[hidden] { display: none; }` but bootstrap.min.css set `[hidden] { display: none !important; }` so we also need the `!important` here to be able to override the default hidden behavior on the sphinx rendered scikit-learn.org. See: https://github.com/scikit-learn/scikit-learn/issues/21755 */display: inline-block !important;position: relative;}#sk-container-id-1 div.sk-text-repr-fallback {display: none;}</style><div id=\"sk-container-id-1\" class=\"sk-top-container\"><div class=\"sk-text-repr-fallback\"><pre>LinearRegression()</pre><b>In a Jupyter environment, please rerun this cell to show the HTML representation or trust the notebook. <br />On GitHub, the HTML representation is unable to render, please try loading this page with nbviewer.org.</b></div><div class=\"sk-container\" hidden><div class=\"sk-item\"><div class=\"sk-estimator sk-toggleable\"><input class=\"sk-toggleable__control sk-hidden--visually\" id=\"sk-estimator-id-1\" type=\"checkbox\" checked><label for=\"sk-estimator-id-1\" class=\"sk-toggleable__label sk-toggleable__label-arrow\">LinearRegression</label><div class=\"sk-toggleable__content\"><pre>LinearRegression()</pre></div></div></div></div></div>"
      ],
      "text/plain": [
       "LinearRegression()"
      ]
     },
     "execution_count": 22,
     "metadata": {},
     "output_type": "execute_result"
    }
   ],
   "source": [
    "model.fit(X_train,y_train)"
   ]
  },
  {
   "cell_type": "code",
   "execution_count": 23,
   "id": "33f299a3",
   "metadata": {},
   "outputs": [],
   "source": [
    "y_pred=model.predict(X_test)"
   ]
  },
  {
   "cell_type": "code",
   "execution_count": 24,
   "id": "8fe9bfe6",
   "metadata": {},
   "outputs": [
    {
     "data": {
      "text/plain": [
       "array([[27.68277707],\n",
       "       [31.59699185],\n",
       "       [28.05898994],\n",
       "       [35.52721569],\n",
       "       [29.13159685],\n",
       "       [27.78683595],\n",
       "       [30.18019018],\n",
       "       [31.73306884],\n",
       "       [30.55640305],\n",
       "       [32.2133406 ],\n",
       "       [32.51751271],\n",
       "       [33.67816944],\n",
       "       [35.03093488],\n",
       "       [31.33284238],\n",
       "       [33.57411056],\n",
       "       [36.51977731],\n",
       "       [34.16644572],\n",
       "       [36.92000377],\n",
       "       [28.3231394 ],\n",
       "       [36.87998112],\n",
       "       [35.05494847],\n",
       "       [28.63531604],\n",
       "       [33.3099611 ],\n",
       "       [31.58098279],\n",
       "       [36.91199924],\n",
       "       [29.33171008],\n",
       "       [34.49463142],\n",
       "       [34.790799  ],\n",
       "       [31.26880615],\n",
       "       [32.81368029],\n",
       "       [28.93148362],\n",
       "       [36.38370031],\n",
       "       [36.7358996 ],\n",
       "       [28.00295823],\n",
       "       [34.41458613],\n",
       "       [34.26250007],\n",
       "       [34.18245478],\n",
       "       [37.16814418],\n",
       "       [31.49293297],\n",
       "       [30.10814942],\n",
       "       [29.79597278],\n",
       "       [37.08009435],\n",
       "       [35.78336062],\n",
       "       [37.18415323],\n",
       "       [36.82394942],\n",
       "       [27.65075895],\n",
       "       [37.48032081],\n",
       "       [34.15043666],\n",
       "       [28.77139304],\n",
       "       [37.3122257 ],\n",
       "       [35.6953108 ],\n",
       "       [29.56384143],\n",
       "       [34.83882618],\n",
       "       [28.08300353],\n",
       "       [32.77365764],\n",
       "       [30.30826265],\n",
       "       [33.43803357],\n",
       "       [36.57580901],\n",
       "       [27.95493106],\n",
       "       [28.85944286],\n",
       "       [30.06012224],\n",
       "       [37.0640853 ],\n",
       "       [35.91943762],\n",
       "       [31.18876086],\n",
       "       [30.86057516],\n",
       "       [34.85483524],\n",
       "       [35.3671251 ],\n",
       "       [32.2693723 ],\n",
       "       [36.64784978],\n",
       "       [36.35968673],\n",
       "       [28.89146098],\n",
       "       [29.11558779],\n",
       "       [35.76735156],\n",
       "       [27.75481783],\n",
       "       [28.77939757],\n",
       "       [35.86340592],\n",
       "       [37.51233893],\n",
       "       [30.97263857],\n",
       "       [30.98864763],\n",
       "       [33.45404262],\n",
       "       [29.67590484],\n",
       "       [30.20420377],\n",
       "       [30.03610865],\n",
       "       [35.48719304],\n",
       "       [33.14987051],\n",
       "       [31.41288768],\n",
       "       [31.00465669],\n",
       "       [31.95719566],\n",
       "       [35.59925645],\n",
       "       [31.13272915],\n",
       "       [37.38426646],\n",
       "       [36.25562785],\n",
       "       [35.34311152],\n",
       "       [34.78279447],\n",
       "       [36.0795282 ],\n",
       "       [35.89542403],\n",
       "       [29.17962403],\n",
       "       [32.57354441],\n",
       "       [30.43633511],\n",
       "       [29.49180067],\n",
       "       [31.54096014],\n",
       "       [36.63184072],\n",
       "       [37.48832534],\n",
       "       [29.25966932],\n",
       "       [31.92517755],\n",
       "       [33.26993845],\n",
       "       [32.54953082],\n",
       "       [33.71018756],\n",
       "       [30.89259328],\n",
       "       [28.24309411],\n",
       "       [32.23735418],\n",
       "       [31.5009375 ],\n",
       "       [35.24705717],\n",
       "       [37.47231629],\n",
       "       [31.50894203],\n",
       "       [28.50724357],\n",
       "       [32.78166217],\n",
       "       [34.27850913],\n",
       "       [30.06812677],\n",
       "       [34.4626133 ],\n",
       "       [28.37917111],\n",
       "       [31.86914584],\n",
       "       [35.39914322],\n",
       "       [29.19563309],\n",
       "       [36.09553726],\n",
       "       [31.06068839],\n",
       "       [30.38030341],\n",
       "       [35.33510699],\n",
       "       [27.70679065],\n",
       "       [33.49406527],\n",
       "       [36.78392677],\n",
       "       [36.2716369 ],\n",
       "       [30.26824   ],\n",
       "       [33.38200186],\n",
       "       [34.55866765],\n",
       "       [31.8291232 ],\n",
       "       [35.90342856],\n",
       "       [30.69248005],\n",
       "       [36.77592224],\n",
       "       [33.82225097],\n",
       "       [32.42145836],\n",
       "       [36.5437909 ],\n",
       "       [31.20476992],\n",
       "       [29.2276512 ],\n",
       "       [31.35685597],\n",
       "       [37.29621664],\n",
       "       [29.90803619],\n",
       "       [32.96576634],\n",
       "       [31.65302355],\n",
       "       [31.7490779 ],\n",
       "       [34.01435967],\n",
       "       [35.85540139],\n",
       "       [30.76452081],\n",
       "       [33.54209245],\n",
       "       [35.71932439],\n",
       "       [33.66216038],\n",
       "       [31.3088288 ],\n",
       "       [35.11098017],\n",
       "       [30.7885344 ],\n",
       "       [37.19215776],\n",
       "       [34.35855442],\n",
       "       [34.60669483],\n",
       "       [32.29338589],\n",
       "       [36.03950556],\n",
       "       [35.23104811],\n",
       "       [32.18132248],\n",
       "       [34.00635514],\n",
       "       [34.29451819],\n",
       "       [32.86170746],\n",
       "       [36.51177278],\n",
       "       [30.73250269],\n",
       "       [32.28538136],\n",
       "       [36.39170484],\n",
       "       [33.06982522],\n",
       "       [32.03724095],\n",
       "       [31.37286503],\n",
       "       [30.00409054],\n",
       "       [27.91490841],\n",
       "       [33.96633249],\n",
       "       [34.84683071],\n",
       "       [36.00748744],\n",
       "       [32.16531342],\n",
       "       [30.94062045],\n",
       "       [29.61987313],\n",
       "       [30.82055252],\n",
       "       [33.14186598],\n",
       "       [29.50780973],\n",
       "       [35.83939233],\n",
       "       [35.58324739],\n",
       "       [32.79767123],\n",
       "       [34.31853178],\n",
       "       [36.43973202],\n",
       "       [30.12415847],\n",
       "       [37.15213512],\n",
       "       [36.58381354],\n",
       "       [28.03497635],\n",
       "       [33.59011962],\n",
       "       [33.51007433],\n",
       "       [37.120117  ],\n",
       "       [36.44773655],\n",
       "       [32.34141306],\n",
       "       [31.3648605 ],\n",
       "       [30.51638041],\n",
       "       [30.50837588],\n",
       "       [29.43576896],\n",
       "       [35.06295299],\n",
       "       [35.87941497],\n",
       "       [27.99495371],\n",
       "       [34.94288506],\n",
       "       [33.31796563],\n",
       "       [36.83995848],\n",
       "       [35.93544668],\n",
       "       [29.78796825],\n",
       "       [32.58955347],\n",
       "       [31.1167201 ],\n",
       "       [29.27567838],\n",
       "       [33.34998374],\n",
       "       [28.10701711],\n",
       "       [37.24818947],\n",
       "       [31.10071104],\n",
       "       [27.85887671],\n",
       "       [33.95832796],\n",
       "       [34.38256801],\n",
       "       [31.90916849],\n",
       "       [33.44603809],\n",
       "       [29.65189125],\n",
       "       [34.66272653],\n",
       "       [36.01549197],\n",
       "       [32.61356706],\n",
       "       [33.98234155],\n",
       "       [30.53238946],\n",
       "       [32.62157159],\n",
       "       [37.65642046],\n",
       "       [34.63871295],\n",
       "       [31.09270651],\n",
       "       [35.60726098],\n",
       "       [37.63240687],\n",
       "       [35.63127457],\n",
       "       [28.20307146],\n",
       "       [31.26080162],\n",
       "       [31.8851549 ],\n",
       "       [27.72279971],\n",
       "       [36.08753273],\n",
       "       [28.76338851],\n",
       "       [31.46891938],\n",
       "       [37.36025288],\n",
       "       [33.91830532],\n",
       "       [36.47175013],\n",
       "       [27.89089483],\n",
       "       [30.90860234],\n",
       "       [28.15504429],\n",
       "       [33.61413321]])"
      ]
     },
     "execution_count": 24,
     "metadata": {},
     "output_type": "execute_result"
    }
   ],
   "source": [
    "y_pred"
   ]
  },
  {
   "cell_type": "code",
   "execution_count": 25,
   "id": "8b9abd86",
   "metadata": {},
   "outputs": [
    {
     "name": "stdout",
     "output_type": "stream",
     "text": [
      "MSE: 35.87896224479698\n"
     ]
    }
   ],
   "source": [
    "mse=metrics.mean_squared_error(y_test,y_pred)\n",
    "print('MSE:',mse)"
   ]
  },
  {
   "cell_type": "code",
   "execution_count": 26,
   "id": "19b911d6",
   "metadata": {},
   "outputs": [
    {
     "name": "stdout",
     "output_type": "stream",
     "text": [
      "R2 Score: 0.16204392415211555\n"
     ]
    }
   ],
   "source": [
    "r2=metrics.r2_score(y_test,y_pred)\n",
    "print('R2 Score:',r2)"
   ]
  },
  {
   "cell_type": "code",
   "execution_count": 27,
   "id": "14fa1937",
   "metadata": {},
   "outputs": [],
   "source": [
    "X_train,X_test,y_train,y_test=train_test_split(X,y,test_size=0.2,random_state=42)"
   ]
  },
  {
   "cell_type": "code",
   "execution_count": 28,
   "id": "5c5f1979",
   "metadata": {},
   "outputs": [],
   "source": [
    "model=LinearRegression()\n",
    "model.fit(X_train,y_train)\n",
    "y_pred=model.predict(X_test)"
   ]
  },
  {
   "cell_type": "code",
   "execution_count": 29,
   "id": "ea69ced0",
   "metadata": {},
   "outputs": [
    {
     "data": {
      "text/plain": [
       "array([[32.20637123],\n",
       "       [28.59233956],\n",
       "       [28.19951003],\n",
       "       [28.29378912],\n",
       "       [36.22894562],\n",
       "       [31.13001832],\n",
       "       [34.02910025],\n",
       "       [36.00896108],\n",
       "       [36.77890696],\n",
       "       [35.94610836],\n",
       "       [31.94710374],\n",
       "       [36.04824403],\n",
       "       [29.35442885],\n",
       "       [32.1513751 ],\n",
       "       [36.15037971],\n",
       "       [30.58791357],\n",
       "       [36.30751152],\n",
       "       [33.8248289 ],\n",
       "       [30.8943206 ],\n",
       "       [35.48256951],\n",
       "       [35.47471292],\n",
       "       [31.05930901],\n",
       "       [29.51156066],\n",
       "       [33.76983276],\n",
       "       [36.10324017],\n",
       "       [33.53413504],\n",
       "       [32.45778213],\n",
       "       [29.83368087],\n",
       "       [33.02345666],\n",
       "       [28.13665731],\n",
       "       [36.04038744],\n",
       "       [30.36792904],\n",
       "       [36.71605423],\n",
       "       [34.87761204],\n",
       "       [31.15358809],\n",
       "       [31.54641762],\n",
       "       [30.21865381],\n",
       "       [30.12437473],\n",
       "       [31.44428195],\n",
       "       [29.33871567],\n",
       "       [37.36815125],\n",
       "       [32.74061939],\n",
       "       [35.22330202],\n",
       "       [28.76518455],\n",
       "       [34.22551502],\n",
       "       [34.99546089],\n",
       "       [29.92010337],\n",
       "       [27.97952549],\n",
       "       [31.6485533 ],\n",
       "       [34.42978637],\n",
       "       [31.31071991],\n",
       "       [29.79439792],\n",
       "       [34.26479797],\n",
       "       [34.70476704],\n",
       "       [29.62940952],\n",
       "       [29.71583202],\n",
       "       [29.43299475],\n",
       "       [29.16587067],\n",
       "       [37.17173649],\n",
       "       [30.75290197],\n",
       "       [32.02566965],\n",
       "       [30.20294063],\n",
       "       [31.16144469],\n",
       "       [28.43520775],\n",
       "       [28.25450617],\n",
       "       [36.93603877],\n",
       "       [36.60606197],\n",
       "       [28.41163798],\n",
       "       [31.01216946],\n",
       "       [28.18379685],\n",
       "       [34.95617794],\n",
       "       [28.3959248 ],\n",
       "       [30.73718879],\n",
       "       [36.4960697 ],\n",
       "       [32.25351078],\n",
       "       [36.54320924],\n",
       "       [33.6519839 ],\n",
       "       [31.42071217],\n",
       "       [31.17715787],\n",
       "       [37.5802792 ],\n",
       "       [30.41506858],\n",
       "       [30.54863062],\n",
       "       [31.95496034],\n",
       "       [30.2265104 ],\n",
       "       [35.23115861],\n",
       "       [36.5746356 ],\n",
       "       [34.75976318],\n",
       "       [32.30065032],\n",
       "       [35.4118602 ],\n",
       "       [37.57242261],\n",
       "       [31.87639443],\n",
       "       [35.91468199],\n",
       "       [31.93139056],\n",
       "       [35.80468973],\n",
       "       [28.1445139 ],\n",
       "       [29.01659545],\n",
       "       [30.17937086],\n",
       "       [28.02666504],\n",
       "       [28.04237822],\n",
       "       [29.97509951],\n",
       "       [35.72612382],\n",
       "       [31.11430514],\n",
       "       [35.05045703],\n",
       "       [28.4744907 ],\n",
       "       [32.6541969 ],\n",
       "       [33.87982503],\n",
       "       [35.55327883],\n",
       "       [33.96624753],\n",
       "       [37.28958535],\n",
       "       [32.52849145],\n",
       "       [32.93703416],\n",
       "       [31.21644082],\n",
       "       [28.80446751],\n",
       "       [36.61391856],\n",
       "       [29.61369634],\n",
       "       [32.05709601],\n",
       "       [29.11873113],\n",
       "       [37.19530626],\n",
       "       [30.14008791],\n",
       "       [34.571205  ],\n",
       "       [28.34878525],\n",
       "       [35.64755791],\n",
       "       [36.59034879],\n",
       "       [28.68661865],\n",
       "       [36.51963947],\n",
       "       [32.44206895],\n",
       "       [31.42856877],\n",
       "       [34.17837547],\n",
       "       [30.61148334],\n",
       "       [37.00674809],\n",
       "       [37.60384897],\n",
       "       [30.25008018],\n",
       "       [28.6394791 ],\n",
       "       [35.41971679],\n",
       "       [35.63184473],\n",
       "       [33.14130551],\n",
       "       [32.39492941],\n",
       "       [31.13787491],\n",
       "       [29.30728931],\n",
       "       [33.1570187 ],\n",
       "       [35.45114315],\n",
       "       [33.42414278],\n",
       "       [37.11674036],\n",
       "       [35.71826723],\n",
       "       [32.75633258],\n",
       "       [37.2424458 ],\n",
       "       [36.77105037],\n",
       "       [31.75068898],\n",
       "       [35.60827496],\n",
       "       [29.88082042],\n",
       "       [34.28836774],\n",
       "       [28.2230798 ],\n",
       "       [33.91125139],\n",
       "       [31.8999642 ],\n",
       "       [28.23879298],\n",
       "       [28.65519229],\n",
       "       [34.43764296],\n",
       "       [32.71704962],\n",
       "       [30.13223132],\n",
       "       [37.05388763],\n",
       "       [30.04580882],\n",
       "       [33.76197617],\n",
       "       [30.78432834],\n",
       "       [32.46563872],\n",
       "       [33.03131325],\n",
       "       [33.08630938],\n",
       "       [36.83390309],\n",
       "       [30.06937859],\n",
       "       [35.98539131],\n",
       "       [30.48577789],\n",
       "       [37.62741874],\n",
       "       [33.41628619],\n",
       "       [31.12216173],\n",
       "       [32.08066578],\n",
       "       [33.60484436],\n",
       "       [34.64977091],\n",
       "       [30.33650267],\n",
       "       [29.44085135],\n",
       "       [34.17051888],\n",
       "       [29.13444431],\n",
       "       [30.03795223],\n",
       "       [32.27708055],\n",
       "       [32.12780533],\n",
       "       [30.37578563],\n",
       "       [33.06273961],\n",
       "       [36.26822857],\n",
       "       [31.24001059],\n",
       "       [33.43985596],\n",
       "       [34.91689499],\n",
       "       [29.44870794],\n",
       "       [33.54199164],\n",
       "       [34.05267002],\n",
       "       [32.3163635 ],\n",
       "       [32.63062713],\n",
       "       [33.4869955 ],\n",
       "       [27.87738982],\n",
       "       [28.95374273],\n",
       "       [35.13687953],\n",
       "       [35.77326336],\n",
       "       [33.86411185],\n",
       "       [36.69248446],\n",
       "       [37.26601558],\n",
       "       [32.37135964],\n",
       "       [33.80125912],\n",
       "       [30.51720426],\n",
       "       [30.07723518],\n",
       "       [34.09980957],\n",
       "       [34.9090384 ],\n",
       "       [33.34557687],\n",
       "       [30.80004152],\n",
       "       [29.52727384],\n",
       "       [35.12116634],\n",
       "       [33.58127459],\n",
       "       [28.85946364],\n",
       "       [29.68440565],\n",
       "       [32.0649526 ],\n",
       "       [31.57784399],\n",
       "       [30.66647948],\n",
       "       [33.80911572],\n",
       "       [34.4062166 ],\n",
       "       [32.4892085 ],\n",
       "       [29.04016522],\n",
       "       [28.89874659],\n",
       "       [31.70354944],\n",
       "       [35.37257724],\n",
       "       [30.9807431 ],\n",
       "       [37.4152908 ],\n",
       "       [36.36250766],\n",
       "       [35.53756565],\n",
       "       [31.93924715],\n",
       "       [28.3095023 ],\n",
       "       [30.86289424],\n",
       "       [33.78554594],\n",
       "       [30.50149108],\n",
       "       [35.35686406],\n",
       "       [37.56456602],\n",
       "       [35.73398041],\n",
       "       [28.55305661],\n",
       "       [29.24443658],\n",
       "       [30.10866155],\n",
       "       [29.73940179],\n",
       "       [29.07944818],\n",
       "       [35.20758884],\n",
       "       [36.95960854],\n",
       "       [29.53513043],\n",
       "       [32.36350305],\n",
       "       [28.05023481],\n",
       "       [29.02445204],\n",
       "       [32.11209215],\n",
       "       [30.92574697],\n",
       "       [29.70797543],\n",
       "       [34.35122047]])"
      ]
     },
     "execution_count": 29,
     "metadata": {},
     "output_type": "execute_result"
    }
   ],
   "source": [
    "y_pred"
   ]
  },
  {
   "cell_type": "code",
   "execution_count": 30,
   "id": "5dd10ad5",
   "metadata": {},
   "outputs": [
    {
     "name": "stdout",
     "output_type": "stream",
     "text": [
      "MSE: 32.15349491630418\n"
     ]
    }
   ],
   "source": [
    "mse=metrics.mean_squared_error(y_test,y_pred)\n",
    "print('MSE:',mse)"
   ]
  },
  {
   "cell_type": "code",
   "execution_count": 31,
   "id": "800134aa",
   "metadata": {},
   "outputs": [
    {
     "name": "stdout",
     "output_type": "stream",
     "text": [
      "R2 Score: 0.19306309323404092\n"
     ]
    }
   ],
   "source": [
    "r2=metrics.r2_score(y_test,y_pred)\n",
    "print('R2 Score:',r2)"
   ]
  },
  {
   "cell_type": "code",
   "execution_count": 33,
   "id": "71addeb7",
   "metadata": {},
   "outputs": [
    {
     "data": {
      "text/plain": [
       "(252, 1)"
      ]
     },
     "execution_count": 33,
     "metadata": {},
     "output_type": "execute_result"
    }
   ],
   "source": [
    "y_pred.shape"
   ]
  },
  {
   "cell_type": "code",
   "execution_count": null,
   "id": "2e95f437",
   "metadata": {},
   "outputs": [],
   "source": []
  }
 ],
 "metadata": {
  "kernelspec": {
   "display_name": "Python 3 (ipykernel)",
   "language": "python",
   "name": "python3"
  },
  "language_info": {
   "codemirror_mode": {
    "name": "ipython",
    "version": 3
   },
   "file_extension": ".py",
   "mimetype": "text/x-python",
   "name": "python",
   "nbconvert_exporter": "python",
   "pygments_lexer": "ipython3",
   "version": "3.11.3"
  }
 },
 "nbformat": 4,
 "nbformat_minor": 5
}
