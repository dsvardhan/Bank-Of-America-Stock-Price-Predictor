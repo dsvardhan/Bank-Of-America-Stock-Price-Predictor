{
 "cells": [
  {
   "cell_type": "code",
   "execution_count": 1,
   "id": "7bc673f1",
   "metadata": {},
   "outputs": [],
   "source": [
    "import pandas as pd"
   ]
  },
  {
   "cell_type": "code",
   "execution_count": 2,
   "id": "169ee2d0",
   "metadata": {},
   "outputs": [],
   "source": [
    "df=pd.read_csv('BAC.csv')\n",
    "df['Date'] = pd.to_datetime(df['Date'])\n",
    "#df.set_index('Date', inplace=True)\n"
   ]
  },
  {
   "cell_type": "code",
   "execution_count": 3,
   "id": "32612e61",
   "metadata": {},
   "outputs": [
    {
     "data": {
      "text/html": [
       "<div>\n",
       "<style scoped>\n",
       "    .dataframe tbody tr th:only-of-type {\n",
       "        vertical-align: middle;\n",
       "    }\n",
       "\n",
       "    .dataframe tbody tr th {\n",
       "        vertical-align: top;\n",
       "    }\n",
       "\n",
       "    .dataframe thead th {\n",
       "        text-align: right;\n",
       "    }\n",
       "</style>\n",
       "<table border=\"1\" class=\"dataframe\">\n",
       "  <thead>\n",
       "    <tr style=\"text-align: right;\">\n",
       "      <th></th>\n",
       "      <th>Date</th>\n",
       "      <th>Open</th>\n",
       "      <th>High</th>\n",
       "      <th>Low</th>\n",
       "      <th>Close</th>\n",
       "      <th>Adj Close</th>\n",
       "      <th>Volume</th>\n",
       "    </tr>\n",
       "  </thead>\n",
       "  <tbody>\n",
       "    <tr>\n",
       "      <th>0</th>\n",
       "      <td>2018-07-02</td>\n",
       "      <td>28.080000</td>\n",
       "      <td>28.280001</td>\n",
       "      <td>27.830000</td>\n",
       "      <td>28.280001</td>\n",
       "      <td>25.186296</td>\n",
       "      <td>52534300</td>\n",
       "    </tr>\n",
       "    <tr>\n",
       "      <th>1</th>\n",
       "      <td>2018-07-03</td>\n",
       "      <td>28.330000</td>\n",
       "      <td>28.430000</td>\n",
       "      <td>27.740000</td>\n",
       "      <td>27.780001</td>\n",
       "      <td>24.740997</td>\n",
       "      <td>40599000</td>\n",
       "    </tr>\n",
       "    <tr>\n",
       "      <th>2</th>\n",
       "      <td>2018-07-05</td>\n",
       "      <td>27.950001</td>\n",
       "      <td>28.080000</td>\n",
       "      <td>27.809999</td>\n",
       "      <td>27.920000</td>\n",
       "      <td>24.865677</td>\n",
       "      <td>44506800</td>\n",
       "    </tr>\n",
       "    <tr>\n",
       "      <th>3</th>\n",
       "      <td>2018-07-06</td>\n",
       "      <td>27.809999</td>\n",
       "      <td>28.150000</td>\n",
       "      <td>27.629999</td>\n",
       "      <td>28.030001</td>\n",
       "      <td>24.963646</td>\n",
       "      <td>39424900</td>\n",
       "    </tr>\n",
       "    <tr>\n",
       "      <th>4</th>\n",
       "      <td>2018-07-09</td>\n",
       "      <td>28.230000</td>\n",
       "      <td>29.090000</td>\n",
       "      <td>28.219999</td>\n",
       "      <td>29.049999</td>\n",
       "      <td>25.872059</td>\n",
       "      <td>61758900</td>\n",
       "    </tr>\n",
       "  </tbody>\n",
       "</table>\n",
       "</div>"
      ],
      "text/plain": [
       "        Date       Open       High        Low      Close  Adj Close    Volume\n",
       "0 2018-07-02  28.080000  28.280001  27.830000  28.280001  25.186296  52534300\n",
       "1 2018-07-03  28.330000  28.430000  27.740000  27.780001  24.740997  40599000\n",
       "2 2018-07-05  27.950001  28.080000  27.809999  27.920000  24.865677  44506800\n",
       "3 2018-07-06  27.809999  28.150000  27.629999  28.030001  24.963646  39424900\n",
       "4 2018-07-09  28.230000  29.090000  28.219999  29.049999  25.872059  61758900"
      ]
     },
     "execution_count": 3,
     "metadata": {},
     "output_type": "execute_result"
    }
   ],
   "source": [
    "df.head()"
   ]
  },
  {
   "cell_type": "code",
   "execution_count": 4,
   "id": "700bc192",
   "metadata": {},
   "outputs": [
    {
     "data": {
      "text/plain": [
       "<bound method DataFrame.info of            Date       Open       High        Low      Close  Adj Close  \\\n",
       "0    2018-07-02  28.080000  28.280001  27.830000  28.280001  25.186296   \n",
       "1    2018-07-03  28.330000  28.430000  27.740000  27.780001  24.740997   \n",
       "2    2018-07-05  27.950001  28.080000  27.809999  27.920000  24.865677   \n",
       "3    2018-07-06  27.809999  28.150000  27.629999  28.030001  24.963646   \n",
       "4    2018-07-09  28.230000  29.090000  28.219999  29.049999  25.872059   \n",
       "...         ...        ...        ...        ...        ...        ...   \n",
       "1253 2023-06-26  27.799999  28.280001  27.790001  28.090000  28.090000   \n",
       "1254 2023-06-27  28.100000  28.400000  27.950001  28.240000  28.240000   \n",
       "1255 2023-06-28  28.250000  28.270000  27.900000  28.070000  28.070000   \n",
       "1256 2023-06-29  28.500000  29.000000  28.400000  28.660000  28.660000   \n",
       "1257 2023-06-30  28.940001  29.110001  28.670000  28.690001  28.690001   \n",
       "\n",
       "        Volume  \n",
       "0     52534300  \n",
       "1     40599000  \n",
       "2     44506800  \n",
       "3     39424900  \n",
       "4     61758900  \n",
       "...        ...  \n",
       "1253  47519300  \n",
       "1254  39081800  \n",
       "1255  37803800  \n",
       "1256  68376400  \n",
       "1257  50370700  \n",
       "\n",
       "[1258 rows x 7 columns]>"
      ]
     },
     "execution_count": 4,
     "metadata": {},
     "output_type": "execute_result"
    }
   ],
   "source": [
    "df.info"
   ]
  },
  {
   "cell_type": "code",
   "execution_count": 5,
   "id": "0a4fcb7c",
   "metadata": {},
   "outputs": [],
   "source": [
    "df.drop_duplicates(inplace=True)"
   ]
  },
  {
   "cell_type": "code",
   "execution_count": 6,
   "id": "271579f6",
   "metadata": {},
   "outputs": [
    {
     "name": "stdout",
     "output_type": "stream",
     "text": [
      "0\n"
     ]
    }
   ],
   "source": [
    "print(df.duplicated().sum())"
   ]
  },
  {
   "cell_type": "code",
   "execution_count": 7,
   "id": "f80a8a9f",
   "metadata": {},
   "outputs": [],
   "source": [
    "df.fillna(method='ffill',inplace=True)"
   ]
  },
  {
   "cell_type": "code",
   "execution_count": 8,
   "id": "89d975cf",
   "metadata": {},
   "outputs": [],
   "source": [
    "df=df[['Date','Close']]"
   ]
  },
  {
   "cell_type": "code",
   "execution_count": 9,
   "id": "09f03046",
   "metadata": {},
   "outputs": [
    {
     "data": {
      "text/html": [
       "<div>\n",
       "<style scoped>\n",
       "    .dataframe tbody tr th:only-of-type {\n",
       "        vertical-align: middle;\n",
       "    }\n",
       "\n",
       "    .dataframe tbody tr th {\n",
       "        vertical-align: top;\n",
       "    }\n",
       "\n",
       "    .dataframe thead th {\n",
       "        text-align: right;\n",
       "    }\n",
       "</style>\n",
       "<table border=\"1\" class=\"dataframe\">\n",
       "  <thead>\n",
       "    <tr style=\"text-align: right;\">\n",
       "      <th></th>\n",
       "      <th>Date</th>\n",
       "      <th>Close</th>\n",
       "    </tr>\n",
       "  </thead>\n",
       "  <tbody>\n",
       "    <tr>\n",
       "      <th>0</th>\n",
       "      <td>2018-07-02</td>\n",
       "      <td>28.280001</td>\n",
       "    </tr>\n",
       "    <tr>\n",
       "      <th>1</th>\n",
       "      <td>2018-07-03</td>\n",
       "      <td>27.780001</td>\n",
       "    </tr>\n",
       "    <tr>\n",
       "      <th>2</th>\n",
       "      <td>2018-07-05</td>\n",
       "      <td>27.920000</td>\n",
       "    </tr>\n",
       "    <tr>\n",
       "      <th>3</th>\n",
       "      <td>2018-07-06</td>\n",
       "      <td>28.030001</td>\n",
       "    </tr>\n",
       "    <tr>\n",
       "      <th>4</th>\n",
       "      <td>2018-07-09</td>\n",
       "      <td>29.049999</td>\n",
       "    </tr>\n",
       "    <tr>\n",
       "      <th>...</th>\n",
       "      <td>...</td>\n",
       "      <td>...</td>\n",
       "    </tr>\n",
       "    <tr>\n",
       "      <th>1253</th>\n",
       "      <td>2023-06-26</td>\n",
       "      <td>28.090000</td>\n",
       "    </tr>\n",
       "    <tr>\n",
       "      <th>1254</th>\n",
       "      <td>2023-06-27</td>\n",
       "      <td>28.240000</td>\n",
       "    </tr>\n",
       "    <tr>\n",
       "      <th>1255</th>\n",
       "      <td>2023-06-28</td>\n",
       "      <td>28.070000</td>\n",
       "    </tr>\n",
       "    <tr>\n",
       "      <th>1256</th>\n",
       "      <td>2023-06-29</td>\n",
       "      <td>28.660000</td>\n",
       "    </tr>\n",
       "    <tr>\n",
       "      <th>1257</th>\n",
       "      <td>2023-06-30</td>\n",
       "      <td>28.690001</td>\n",
       "    </tr>\n",
       "  </tbody>\n",
       "</table>\n",
       "<p>1258 rows × 2 columns</p>\n",
       "</div>"
      ],
      "text/plain": [
       "           Date      Close\n",
       "0    2018-07-02  28.280001\n",
       "1    2018-07-03  27.780001\n",
       "2    2018-07-05  27.920000\n",
       "3    2018-07-06  28.030001\n",
       "4    2018-07-09  29.049999\n",
       "...         ...        ...\n",
       "1253 2023-06-26  28.090000\n",
       "1254 2023-06-27  28.240000\n",
       "1255 2023-06-28  28.070000\n",
       "1256 2023-06-29  28.660000\n",
       "1257 2023-06-30  28.690001\n",
       "\n",
       "[1258 rows x 2 columns]"
      ]
     },
     "execution_count": 9,
     "metadata": {},
     "output_type": "execute_result"
    }
   ],
   "source": [
    "df"
   ]
  },
  {
   "cell_type": "code",
   "execution_count": 10,
   "id": "e765fd81",
   "metadata": {},
   "outputs": [],
   "source": [
    "from sklearn.model_selection import train_test_split\n",
    "from sklearn.linear_model import LinearRegression\n",
    "from sklearn import metrics"
   ]
  },
  {
   "cell_type": "code",
   "execution_count": 11,
   "id": "0ffa85a8",
   "metadata": {},
   "outputs": [],
   "source": [
    "import numpy as np"
   ]
  },
  {
   "cell_type": "code",
   "execution_count": 12,
   "id": "72336d7f",
   "metadata": {},
   "outputs": [],
   "source": [
    "from sklearn.ensemble import RandomForestRegressor"
   ]
  },
  {
   "cell_type": "code",
   "execution_count": 13,
   "id": "badb3faf",
   "metadata": {},
   "outputs": [],
   "source": [
    "#n=int(len(df)*0.8)\n",
    "#train=df[:n]\n",
    "#test=df[n:]"
   ]
  },
  {
   "cell_type": "code",
   "execution_count": 14,
   "id": "bba382cd",
   "metadata": {},
   "outputs": [],
   "source": [
    "#train\n",
    "feature=df[['Date']]\n",
    "target=df[['Close']]"
   ]
  },
  {
   "cell_type": "code",
   "execution_count": 15,
   "id": "a48b5ffa",
   "metadata": {},
   "outputs": [],
   "source": [
    "#test"
   ]
  },
  {
   "cell_type": "code",
   "execution_count": 16,
   "id": "3e53a04c",
   "metadata": {},
   "outputs": [],
   "source": [
    "#X=train[['Date']]\n",
    "#y=train.Close\n",
    "#X_test=test[['Date']]\n",
    "#y_test=test.Close"
   ]
  },
  {
   "cell_type": "code",
   "execution_count": 17,
   "id": "c18b7e46",
   "metadata": {},
   "outputs": [],
   "source": [
    "X,X_test,y,y_test=train_test_split(feature,target,test_size=0.2,random_state=42)"
   ]
  },
  {
   "cell_type": "code",
   "execution_count": 18,
   "id": "542938e5",
   "metadata": {},
   "outputs": [
    {
     "data": {
      "text/html": [
       "<div>\n",
       "<style scoped>\n",
       "    .dataframe tbody tr th:only-of-type {\n",
       "        vertical-align: middle;\n",
       "    }\n",
       "\n",
       "    .dataframe tbody tr th {\n",
       "        vertical-align: top;\n",
       "    }\n",
       "\n",
       "    .dataframe thead th {\n",
       "        text-align: right;\n",
       "    }\n",
       "</style>\n",
       "<table border=\"1\" class=\"dataframe\">\n",
       "  <thead>\n",
       "    <tr style=\"text-align: right;\">\n",
       "      <th></th>\n",
       "      <th>Date</th>\n",
       "    </tr>\n",
       "  </thead>\n",
       "  <tbody>\n",
       "    <tr>\n",
       "      <th>1200</th>\n",
       "      <td>2023-04-10</td>\n",
       "    </tr>\n",
       "    <tr>\n",
       "      <th>199</th>\n",
       "      <td>2019-04-17</td>\n",
       "    </tr>\n",
       "    <tr>\n",
       "      <th>1124</th>\n",
       "      <td>2022-12-16</td>\n",
       "    </tr>\n",
       "    <tr>\n",
       "      <th>1158</th>\n",
       "      <td>2023-02-07</td>\n",
       "    </tr>\n",
       "    <tr>\n",
       "      <th>381</th>\n",
       "      <td>2020-01-07</td>\n",
       "    </tr>\n",
       "    <tr>\n",
       "      <th>...</th>\n",
       "      <td>...</td>\n",
       "    </tr>\n",
       "    <tr>\n",
       "      <th>1044</th>\n",
       "      <td>2022-08-24</td>\n",
       "    </tr>\n",
       "    <tr>\n",
       "      <th>1095</th>\n",
       "      <td>2022-11-04</td>\n",
       "    </tr>\n",
       "    <tr>\n",
       "      <th>1130</th>\n",
       "      <td>2022-12-27</td>\n",
       "    </tr>\n",
       "    <tr>\n",
       "      <th>860</th>\n",
       "      <td>2021-11-30</td>\n",
       "    </tr>\n",
       "    <tr>\n",
       "      <th>1126</th>\n",
       "      <td>2022-12-20</td>\n",
       "    </tr>\n",
       "  </tbody>\n",
       "</table>\n",
       "<p>1006 rows × 1 columns</p>\n",
       "</div>"
      ],
      "text/plain": [
       "           Date\n",
       "1200 2023-04-10\n",
       "199  2019-04-17\n",
       "1124 2022-12-16\n",
       "1158 2023-02-07\n",
       "381  2020-01-07\n",
       "...         ...\n",
       "1044 2022-08-24\n",
       "1095 2022-11-04\n",
       "1130 2022-12-27\n",
       "860  2021-11-30\n",
       "1126 2022-12-20\n",
       "\n",
       "[1006 rows x 1 columns]"
      ]
     },
     "execution_count": 18,
     "metadata": {},
     "output_type": "execute_result"
    }
   ],
   "source": [
    "X"
   ]
  },
  {
   "cell_type": "code",
   "execution_count": 19,
   "id": "a0ccbafb",
   "metadata": {},
   "outputs": [
    {
     "data": {
      "text/html": [
       "<div>\n",
       "<style scoped>\n",
       "    .dataframe tbody tr th:only-of-type {\n",
       "        vertical-align: middle;\n",
       "    }\n",
       "\n",
       "    .dataframe tbody tr th {\n",
       "        vertical-align: top;\n",
       "    }\n",
       "\n",
       "    .dataframe thead th {\n",
       "        text-align: right;\n",
       "    }\n",
       "</style>\n",
       "<table border=\"1\" class=\"dataframe\">\n",
       "  <thead>\n",
       "    <tr style=\"text-align: right;\">\n",
       "      <th></th>\n",
       "      <th>Close</th>\n",
       "    </tr>\n",
       "  </thead>\n",
       "  <tbody>\n",
       "    <tr>\n",
       "      <th>1200</th>\n",
       "      <td>27.940001</td>\n",
       "    </tr>\n",
       "    <tr>\n",
       "      <th>199</th>\n",
       "      <td>30.030001</td>\n",
       "    </tr>\n",
       "    <tr>\n",
       "      <th>1124</th>\n",
       "      <td>31.700001</td>\n",
       "    </tr>\n",
       "    <tr>\n",
       "      <th>1158</th>\n",
       "      <td>36.770000</td>\n",
       "    </tr>\n",
       "    <tr>\n",
       "      <th>381</th>\n",
       "      <td>34.619999</td>\n",
       "    </tr>\n",
       "    <tr>\n",
       "      <th>...</th>\n",
       "      <td>...</td>\n",
       "    </tr>\n",
       "    <tr>\n",
       "      <th>1044</th>\n",
       "      <td>34.520000</td>\n",
       "    </tr>\n",
       "    <tr>\n",
       "      <th>1095</th>\n",
       "      <td>36.790001</td>\n",
       "    </tr>\n",
       "    <tr>\n",
       "      <th>1130</th>\n",
       "      <td>32.529999</td>\n",
       "    </tr>\n",
       "    <tr>\n",
       "      <th>860</th>\n",
       "      <td>44.470001</td>\n",
       "    </tr>\n",
       "    <tr>\n",
       "      <th>1126</th>\n",
       "      <td>32.189999</td>\n",
       "    </tr>\n",
       "  </tbody>\n",
       "</table>\n",
       "<p>1006 rows × 1 columns</p>\n",
       "</div>"
      ],
      "text/plain": [
       "          Close\n",
       "1200  27.940001\n",
       "199   30.030001\n",
       "1124  31.700001\n",
       "1158  36.770000\n",
       "381   34.619999\n",
       "...         ...\n",
       "1044  34.520000\n",
       "1095  36.790001\n",
       "1130  32.529999\n",
       "860   44.470001\n",
       "1126  32.189999\n",
       "\n",
       "[1006 rows x 1 columns]"
      ]
     },
     "execution_count": 19,
     "metadata": {},
     "output_type": "execute_result"
    }
   ],
   "source": [
    "y"
   ]
  },
  {
   "cell_type": "code",
   "execution_count": 20,
   "id": "b7241c06",
   "metadata": {},
   "outputs": [
    {
     "name": "stderr",
     "output_type": "stream",
     "text": [
      "C:\\Users\\dvard\\AppData\\Local\\Temp\\ipykernel_28156\\2450556744.py:2: DataConversionWarning: A column-vector y was passed when a 1d array was expected. Please change the shape of y to (n_samples,), for example using ravel().\n",
      "  forest_regressor.fit(X,y)\n"
     ]
    },
    {
     "data": {
      "text/html": [
       "<style>#sk-container-id-1 {color: black;background-color: white;}#sk-container-id-1 pre{padding: 0;}#sk-container-id-1 div.sk-toggleable {background-color: white;}#sk-container-id-1 label.sk-toggleable__label {cursor: pointer;display: block;width: 100%;margin-bottom: 0;padding: 0.3em;box-sizing: border-box;text-align: center;}#sk-container-id-1 label.sk-toggleable__label-arrow:before {content: \"▸\";float: left;margin-right: 0.25em;color: #696969;}#sk-container-id-1 label.sk-toggleable__label-arrow:hover:before {color: black;}#sk-container-id-1 div.sk-estimator:hover label.sk-toggleable__label-arrow:before {color: black;}#sk-container-id-1 div.sk-toggleable__content {max-height: 0;max-width: 0;overflow: hidden;text-align: left;background-color: #f0f8ff;}#sk-container-id-1 div.sk-toggleable__content pre {margin: 0.2em;color: black;border-radius: 0.25em;background-color: #f0f8ff;}#sk-container-id-1 input.sk-toggleable__control:checked~div.sk-toggleable__content {max-height: 200px;max-width: 100%;overflow: auto;}#sk-container-id-1 input.sk-toggleable__control:checked~label.sk-toggleable__label-arrow:before {content: \"▾\";}#sk-container-id-1 div.sk-estimator input.sk-toggleable__control:checked~label.sk-toggleable__label {background-color: #d4ebff;}#sk-container-id-1 div.sk-label input.sk-toggleable__control:checked~label.sk-toggleable__label {background-color: #d4ebff;}#sk-container-id-1 input.sk-hidden--visually {border: 0;clip: rect(1px 1px 1px 1px);clip: rect(1px, 1px, 1px, 1px);height: 1px;margin: -1px;overflow: hidden;padding: 0;position: absolute;width: 1px;}#sk-container-id-1 div.sk-estimator {font-family: monospace;background-color: #f0f8ff;border: 1px dotted black;border-radius: 0.25em;box-sizing: border-box;margin-bottom: 0.5em;}#sk-container-id-1 div.sk-estimator:hover {background-color: #d4ebff;}#sk-container-id-1 div.sk-parallel-item::after {content: \"\";width: 100%;border-bottom: 1px solid gray;flex-grow: 1;}#sk-container-id-1 div.sk-label:hover label.sk-toggleable__label {background-color: #d4ebff;}#sk-container-id-1 div.sk-serial::before {content: \"\";position: absolute;border-left: 1px solid gray;box-sizing: border-box;top: 0;bottom: 0;left: 50%;z-index: 0;}#sk-container-id-1 div.sk-serial {display: flex;flex-direction: column;align-items: center;background-color: white;padding-right: 0.2em;padding-left: 0.2em;position: relative;}#sk-container-id-1 div.sk-item {position: relative;z-index: 1;}#sk-container-id-1 div.sk-parallel {display: flex;align-items: stretch;justify-content: center;background-color: white;position: relative;}#sk-container-id-1 div.sk-item::before, #sk-container-id-1 div.sk-parallel-item::before {content: \"\";position: absolute;border-left: 1px solid gray;box-sizing: border-box;top: 0;bottom: 0;left: 50%;z-index: -1;}#sk-container-id-1 div.sk-parallel-item {display: flex;flex-direction: column;z-index: 1;position: relative;background-color: white;}#sk-container-id-1 div.sk-parallel-item:first-child::after {align-self: flex-end;width: 50%;}#sk-container-id-1 div.sk-parallel-item:last-child::after {align-self: flex-start;width: 50%;}#sk-container-id-1 div.sk-parallel-item:only-child::after {width: 0;}#sk-container-id-1 div.sk-dashed-wrapped {border: 1px dashed gray;margin: 0 0.4em 0.5em 0.4em;box-sizing: border-box;padding-bottom: 0.4em;background-color: white;}#sk-container-id-1 div.sk-label label {font-family: monospace;font-weight: bold;display: inline-block;line-height: 1.2em;}#sk-container-id-1 div.sk-label-container {text-align: center;}#sk-container-id-1 div.sk-container {/* jupyter's `normalize.less` sets `[hidden] { display: none; }` but bootstrap.min.css set `[hidden] { display: none !important; }` so we also need the `!important` here to be able to override the default hidden behavior on the sphinx rendered scikit-learn.org. See: https://github.com/scikit-learn/scikit-learn/issues/21755 */display: inline-block !important;position: relative;}#sk-container-id-1 div.sk-text-repr-fallback {display: none;}</style><div id=\"sk-container-id-1\" class=\"sk-top-container\"><div class=\"sk-text-repr-fallback\"><pre>RandomForestRegressor(random_state=42)</pre><b>In a Jupyter environment, please rerun this cell to show the HTML representation or trust the notebook. <br />On GitHub, the HTML representation is unable to render, please try loading this page with nbviewer.org.</b></div><div class=\"sk-container\" hidden><div class=\"sk-item\"><div class=\"sk-estimator sk-toggleable\"><input class=\"sk-toggleable__control sk-hidden--visually\" id=\"sk-estimator-id-1\" type=\"checkbox\" checked><label for=\"sk-estimator-id-1\" class=\"sk-toggleable__label sk-toggleable__label-arrow\">RandomForestRegressor</label><div class=\"sk-toggleable__content\"><pre>RandomForestRegressor(random_state=42)</pre></div></div></div></div></div>"
      ],
      "text/plain": [
       "RandomForestRegressor(random_state=42)"
      ]
     },
     "execution_count": 20,
     "metadata": {},
     "output_type": "execute_result"
    }
   ],
   "source": [
    "forest_regressor=RandomForestRegressor(n_estimators=100, random_state=42)\n",
    "forest_regressor.fit(X,y)"
   ]
  },
  {
   "cell_type": "code",
   "execution_count": 21,
   "id": "4daedbc3",
   "metadata": {},
   "outputs": [],
   "source": [
    "prediction=forest_regressor.predict(X_test)"
   ]
  },
  {
   "cell_type": "code",
   "execution_count": 22,
   "id": "9b1cc528",
   "metadata": {},
   "outputs": [
    {
     "data": {
      "text/plain": [
       "array([23.55320021, 27.34959962, 30.46270027, 29.64729979, 31.55499975,\n",
       "       22.80520008, 41.86290076, 34.37809987, 33.63320058, 36.50299933,\n",
       "       25.58689973, 33.62980012, 29.95990073, 25.34560074, 32.91389947,\n",
       "       33.35839877, 34.24130096, 37.39679978, 33.19930061, 34.53810109,\n",
       "       35.39010149, 29.81519936, 28.61080063, 39.8848001 , 34.81519957,\n",
       "       42.20959896, 25.06890083, 29.0855003 , 35.29790123, 31.08919967,\n",
       "       34.00610032, 30.25760004, 33.71969877, 45.61550115, 20.9645001 ,\n",
       "       25.26320042, 29.36999992, 28.03819996, 22.90209997, 29.11869997,\n",
       "       27.9021006 , 30.22189923, 41.91430021, 24.15420038, 43.09050124,\n",
       "       46.70569995, 30.46789999, 31.24540051, 25.18319992, 47.55420093,\n",
       "       23.26170024, 29.23670004, 44.23100152, 44.61599939, 27.65710029,\n",
       "       28.33980023, 30.61369998, 29.33179934, 28.20120031, 35.27910015,\n",
       "       25.21040006, 29.75610009, 21.5792002 , 26.33540034, 30.55759988,\n",
       "       35.58270138, 32.47690005, 26.99450021, 34.69010039, 30.6787001 ,\n",
       "       49.04519915, 28.61550012, 35.29719888, 37.41050091, 24.14919943,\n",
       "       37.38499901, 40.88199911, 24.16369955, 21.5306002 , 29.19900085,\n",
       "       31.90310013, 32.90689975, 26.21769935, 29.3116998 , 40.03089939,\n",
       "       33.21150004, 48.50720024, 25.09799973, 37.70670046, 29.20260084,\n",
       "       24.45120038, 34.18170121, 24.97299973, 33.3097991 , 31.08690005,\n",
       "       28.74980089, 29.96000059, 30.94220088, 30.84370079, 28.22989977,\n",
       "       31.67210024, 27.28430027, 42.55030125, 27.56369979, 28.67359919,\n",
       "       38.183201  , 36.52439851, 42.01400155, 30.02839958, 27.00119962,\n",
       "       32.10610009, 22.0033996 , 24.79019903, 31.85470023, 26.97110011,\n",
       "       26.06229975, 28.90330022, 27.95579984, 29.43699974, 43.97659985,\n",
       "       28.88200047, 32.43619919, 32.67309944, 24.5784    , 37.23299957,\n",
       "       24.5117009 , 22.93609988, 41.62209916, 33.33260048, 34.09779944,\n",
       "       29.19640096, 29.10759944, 27.4337001 , 35.74309872, 32.01249923,\n",
       "       37.90070011, 23.7959998 , 22.11930016, 28.97289944, 38.2742996 ,\n",
       "       35.21589995, 41.79620006, 28.26359977, 31.65300026, 31.04650042,\n",
       "       28.61479921, 34.3822008 , 23.42690043, 31.84509893, 30.3391    ,\n",
       "       43.73539908, 30.8077003 , 38.71229944, 24.69450015, 30.89800029,\n",
       "       25.63230001, 47.03810078, 29.89899907, 28.16149993, 31.15320068,\n",
       "       27.13530071, 39.90770011, 34.73189954, 27.51650001, 35.59500017,\n",
       "       36.5217997 , 34.98029963, 26.83659979, 34.69199995, 33.04330033,\n",
       "       28.09210009, 41.29020005, 22.87820007, 25.84169927, 42.5782004 ,\n",
       "       43.91229964, 29.70939999, 30.62019989, 39.88900044, 28.82030012,\n",
       "       27.17210025, 24.71030026, 25.27649939, 31.2052007 , 35.99730012,\n",
       "       30.37100027, 21.0148    , 41.52410001, 47.00709898, 30.5631997 ,\n",
       "       42.35549902, 41.64969991, 24.05070067, 28.97020024, 42.48110154,\n",
       "       29.83630036, 28.66539922, 42.76110084, 31.25260007, 38.144101  ,\n",
       "       32.85099964, 30.26069914, 24.66939983, 39.08220085, 32.93560009,\n",
       "       27.03439998, 41.01139997, 46.98339899, 38.8552006 , 34.72299929,\n",
       "       28.53980021, 41.68810047, 43.13599957, 27.20310088, 28.44850072,\n",
       "       26.18229935, 25.1662001 , 34.15379902, 38.41620067, 47.95799846,\n",
       "       27.1764    , 29.32820031, 29.17339995, 24.1568997 , 36.70800086,\n",
       "       34.75889889, 27.42259945, 35.77209943, 36.58659839, 25.06549968,\n",
       "       29.84409997, 34.2394004 , 39.93510086, 32.93110057, 36.64970098,\n",
       "       29.27590003, 31.64910041, 27.39609933, 27.32589982, 27.4978    ,\n",
       "       27.95179975, 29.31190017, 43.08369939, 35.36389991, 28.50370052,\n",
       "       24.35019941, 30.78530037, 28.92620089, 25.74539988, 33.3220996 ,\n",
       "       28.33540027, 46.90290118])"
      ]
     },
     "execution_count": 22,
     "metadata": {},
     "output_type": "execute_result"
    }
   ],
   "source": [
    "prediction"
   ]
  },
  {
   "cell_type": "code",
   "execution_count": 23,
   "id": "fbf0fd71",
   "metadata": {},
   "outputs": [
    {
     "name": "stdout",
     "output_type": "stream",
     "text": [
      "MSE: 0.28951737906198266\n"
     ]
    }
   ],
   "source": [
    "mse=metrics.mean_squared_error(y_test,prediction)\n",
    "print('MSE:',mse)"
   ]
  },
  {
   "cell_type": "code",
   "execution_count": 24,
   "id": "5faec775",
   "metadata": {},
   "outputs": [
    {
     "name": "stdout",
     "output_type": "stream",
     "text": [
      "R2 Score: 0.9927341566158396\n"
     ]
    }
   ],
   "source": [
    "r2=metrics.r2_score(y_test,prediction)\n",
    "print('R2 Score:',r2)"
   ]
  },
  {
   "cell_type": "code",
   "execution_count": null,
   "id": "2a1bce6a",
   "metadata": {},
   "outputs": [],
   "source": []
  }
 ],
 "metadata": {
  "kernelspec": {
   "display_name": "Python 3 (ipykernel)",
   "language": "python",
   "name": "python3"
  },
  "language_info": {
   "codemirror_mode": {
    "name": "ipython",
    "version": 3
   },
   "file_extension": ".py",
   "mimetype": "text/x-python",
   "name": "python",
   "nbconvert_exporter": "python",
   "pygments_lexer": "ipython3",
   "version": "3.11.3"
  }
 },
 "nbformat": 4,
 "nbformat_minor": 5
}
