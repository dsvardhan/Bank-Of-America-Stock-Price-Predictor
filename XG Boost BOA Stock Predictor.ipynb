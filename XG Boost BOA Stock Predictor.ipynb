{
 "cells": [
  {
   "cell_type": "code",
   "execution_count": 1,
   "id": "7ebdbaf9",
   "metadata": {},
   "outputs": [],
   "source": [
    "import xgboost as xgb"
   ]
  },
  {
   "cell_type": "code",
   "execution_count": 2,
   "id": "37c43c48",
   "metadata": {},
   "outputs": [],
   "source": [
    "import pandas as pd"
   ]
  },
  {
   "cell_type": "code",
   "execution_count": 15,
   "id": "5a3ff272",
   "metadata": {},
   "outputs": [],
   "source": [
    "df=pd.read_csv('BAC.csv')\n",
    "df['Date'] = pd.to_datetime(df['Date'])\n",
    "earliest_date = df['Date'].min()\n",
    "df['Date'] = (df['Date'] - earliest_date).dt.days\n",
    "#df.set_index('Date',inplace=True)"
   ]
  },
  {
   "cell_type": "code",
   "execution_count": 16,
   "id": "a5bf4134",
   "metadata": {},
   "outputs": [],
   "source": [
    "df=df[['Date','Close']]"
   ]
  },
  {
   "cell_type": "code",
   "execution_count": 17,
   "id": "5443444e",
   "metadata": {},
   "outputs": [],
   "source": [
    "from sklearn.model_selection import train_test_split\n",
    "from sklearn import metrics"
   ]
  },
  {
   "cell_type": "code",
   "execution_count": 18,
   "id": "54f54f24",
   "metadata": {},
   "outputs": [],
   "source": [
    "#df['Date'] = df['Date'].astype('category')"
   ]
  },
  {
   "cell_type": "code",
   "execution_count": 19,
   "id": "11ee532b",
   "metadata": {},
   "outputs": [],
   "source": [
    "feature=df[['Date']]\n",
    "target=df[['Close']]"
   ]
  },
  {
   "cell_type": "code",
   "execution_count": 20,
   "id": "9747eff7",
   "metadata": {},
   "outputs": [],
   "source": [
    "X,X_test,y,y_test=train_test_split(feature,target,test_size=0.2,random_state=42)"
   ]
  },
  {
   "cell_type": "code",
   "execution_count": 21,
   "id": "8042d234",
   "metadata": {},
   "outputs": [],
   "source": [
    "model=xgb.XGBRegressor()"
   ]
  },
  {
   "cell_type": "code",
   "execution_count": 22,
   "id": "b58ff4bb",
   "metadata": {},
   "outputs": [
    {
     "data": {
      "text/html": [
       "<style>#sk-container-id-1 {color: black;background-color: white;}#sk-container-id-1 pre{padding: 0;}#sk-container-id-1 div.sk-toggleable {background-color: white;}#sk-container-id-1 label.sk-toggleable__label {cursor: pointer;display: block;width: 100%;margin-bottom: 0;padding: 0.3em;box-sizing: border-box;text-align: center;}#sk-container-id-1 label.sk-toggleable__label-arrow:before {content: \"▸\";float: left;margin-right: 0.25em;color: #696969;}#sk-container-id-1 label.sk-toggleable__label-arrow:hover:before {color: black;}#sk-container-id-1 div.sk-estimator:hover label.sk-toggleable__label-arrow:before {color: black;}#sk-container-id-1 div.sk-toggleable__content {max-height: 0;max-width: 0;overflow: hidden;text-align: left;background-color: #f0f8ff;}#sk-container-id-1 div.sk-toggleable__content pre {margin: 0.2em;color: black;border-radius: 0.25em;background-color: #f0f8ff;}#sk-container-id-1 input.sk-toggleable__control:checked~div.sk-toggleable__content {max-height: 200px;max-width: 100%;overflow: auto;}#sk-container-id-1 input.sk-toggleable__control:checked~label.sk-toggleable__label-arrow:before {content: \"▾\";}#sk-container-id-1 div.sk-estimator input.sk-toggleable__control:checked~label.sk-toggleable__label {background-color: #d4ebff;}#sk-container-id-1 div.sk-label input.sk-toggleable__control:checked~label.sk-toggleable__label {background-color: #d4ebff;}#sk-container-id-1 input.sk-hidden--visually {border: 0;clip: rect(1px 1px 1px 1px);clip: rect(1px, 1px, 1px, 1px);height: 1px;margin: -1px;overflow: hidden;padding: 0;position: absolute;width: 1px;}#sk-container-id-1 div.sk-estimator {font-family: monospace;background-color: #f0f8ff;border: 1px dotted black;border-radius: 0.25em;box-sizing: border-box;margin-bottom: 0.5em;}#sk-container-id-1 div.sk-estimator:hover {background-color: #d4ebff;}#sk-container-id-1 div.sk-parallel-item::after {content: \"\";width: 100%;border-bottom: 1px solid gray;flex-grow: 1;}#sk-container-id-1 div.sk-label:hover label.sk-toggleable__label {background-color: #d4ebff;}#sk-container-id-1 div.sk-serial::before {content: \"\";position: absolute;border-left: 1px solid gray;box-sizing: border-box;top: 0;bottom: 0;left: 50%;z-index: 0;}#sk-container-id-1 div.sk-serial {display: flex;flex-direction: column;align-items: center;background-color: white;padding-right: 0.2em;padding-left: 0.2em;position: relative;}#sk-container-id-1 div.sk-item {position: relative;z-index: 1;}#sk-container-id-1 div.sk-parallel {display: flex;align-items: stretch;justify-content: center;background-color: white;position: relative;}#sk-container-id-1 div.sk-item::before, #sk-container-id-1 div.sk-parallel-item::before {content: \"\";position: absolute;border-left: 1px solid gray;box-sizing: border-box;top: 0;bottom: 0;left: 50%;z-index: -1;}#sk-container-id-1 div.sk-parallel-item {display: flex;flex-direction: column;z-index: 1;position: relative;background-color: white;}#sk-container-id-1 div.sk-parallel-item:first-child::after {align-self: flex-end;width: 50%;}#sk-container-id-1 div.sk-parallel-item:last-child::after {align-self: flex-start;width: 50%;}#sk-container-id-1 div.sk-parallel-item:only-child::after {width: 0;}#sk-container-id-1 div.sk-dashed-wrapped {border: 1px dashed gray;margin: 0 0.4em 0.5em 0.4em;box-sizing: border-box;padding-bottom: 0.4em;background-color: white;}#sk-container-id-1 div.sk-label label {font-family: monospace;font-weight: bold;display: inline-block;line-height: 1.2em;}#sk-container-id-1 div.sk-label-container {text-align: center;}#sk-container-id-1 div.sk-container {/* jupyter's `normalize.less` sets `[hidden] { display: none; }` but bootstrap.min.css set `[hidden] { display: none !important; }` so we also need the `!important` here to be able to override the default hidden behavior on the sphinx rendered scikit-learn.org. See: https://github.com/scikit-learn/scikit-learn/issues/21755 */display: inline-block !important;position: relative;}#sk-container-id-1 div.sk-text-repr-fallback {display: none;}</style><div id=\"sk-container-id-1\" class=\"sk-top-container\"><div class=\"sk-text-repr-fallback\"><pre>XGBRegressor(base_score=None, booster=None, callbacks=None,\n",
       "             colsample_bylevel=None, colsample_bynode=None,\n",
       "             colsample_bytree=None, early_stopping_rounds=None,\n",
       "             enable_categorical=False, eval_metric=None, feature_types=None,\n",
       "             gamma=None, gpu_id=None, grow_policy=None, importance_type=None,\n",
       "             interaction_constraints=None, learning_rate=None, max_bin=None,\n",
       "             max_cat_threshold=None, max_cat_to_onehot=None,\n",
       "             max_delta_step=None, max_depth=None, max_leaves=None,\n",
       "             min_child_weight=None, missing=nan, monotone_constraints=None,\n",
       "             n_estimators=100, n_jobs=None, num_parallel_tree=None,\n",
       "             predictor=None, random_state=None, ...)</pre><b>In a Jupyter environment, please rerun this cell to show the HTML representation or trust the notebook. <br />On GitHub, the HTML representation is unable to render, please try loading this page with nbviewer.org.</b></div><div class=\"sk-container\" hidden><div class=\"sk-item\"><div class=\"sk-estimator sk-toggleable\"><input class=\"sk-toggleable__control sk-hidden--visually\" id=\"sk-estimator-id-1\" type=\"checkbox\" checked><label for=\"sk-estimator-id-1\" class=\"sk-toggleable__label sk-toggleable__label-arrow\">XGBRegressor</label><div class=\"sk-toggleable__content\"><pre>XGBRegressor(base_score=None, booster=None, callbacks=None,\n",
       "             colsample_bylevel=None, colsample_bynode=None,\n",
       "             colsample_bytree=None, early_stopping_rounds=None,\n",
       "             enable_categorical=False, eval_metric=None, feature_types=None,\n",
       "             gamma=None, gpu_id=None, grow_policy=None, importance_type=None,\n",
       "             interaction_constraints=None, learning_rate=None, max_bin=None,\n",
       "             max_cat_threshold=None, max_cat_to_onehot=None,\n",
       "             max_delta_step=None, max_depth=None, max_leaves=None,\n",
       "             min_child_weight=None, missing=nan, monotone_constraints=None,\n",
       "             n_estimators=100, n_jobs=None, num_parallel_tree=None,\n",
       "             predictor=None, random_state=None, ...)</pre></div></div></div></div></div>"
      ],
      "text/plain": [
       "XGBRegressor(base_score=None, booster=None, callbacks=None,\n",
       "             colsample_bylevel=None, colsample_bynode=None,\n",
       "             colsample_bytree=None, early_stopping_rounds=None,\n",
       "             enable_categorical=False, eval_metric=None, feature_types=None,\n",
       "             gamma=None, gpu_id=None, grow_policy=None, importance_type=None,\n",
       "             interaction_constraints=None, learning_rate=None, max_bin=None,\n",
       "             max_cat_threshold=None, max_cat_to_onehot=None,\n",
       "             max_delta_step=None, max_depth=None, max_leaves=None,\n",
       "             min_child_weight=None, missing=nan, monotone_constraints=None,\n",
       "             n_estimators=100, n_jobs=None, num_parallel_tree=None,\n",
       "             predictor=None, random_state=None, ...)"
      ]
     },
     "execution_count": 22,
     "metadata": {},
     "output_type": "execute_result"
    }
   ],
   "source": [
    "model.fit(X,y)"
   ]
  },
  {
   "cell_type": "code",
   "execution_count": 23,
   "id": "f739b619",
   "metadata": {},
   "outputs": [],
   "source": [
    "predictions=model.predict(X_test)"
   ]
  },
  {
   "cell_type": "code",
   "execution_count": 24,
   "id": "c75b0495",
   "metadata": {},
   "outputs": [
    {
     "data": {
      "text/plain": [
       "array([23.650272, 27.389112, 30.42361 , 29.624517, 31.441494, 20.824648,\n",
       "       41.95012 , 34.05922 , 33.744606, 36.25796 , 24.969822, 33.520462,\n",
       "       30.059605, 25.39421 , 32.454754, 33.217625, 33.917587, 38.19934 ,\n",
       "       33.323505, 34.36297 , 35.502293, 29.168203, 28.574049, 40.109253,\n",
       "       34.147755, 42.209564, 24.636513, 29.21231 , 35.222584, 31.018837,\n",
       "       34.11051 , 30.213625, 34.114063, 45.658634, 20.824648, 25.352592,\n",
       "       29.273136, 27.54955 , 22.913445, 29.053225, 27.739962, 30.396437,\n",
       "       41.523617, 24.398785, 43.06206 , 46.152695, 30.555656, 31.256227,\n",
       "       24.422327, 47.32863 , 23.67159 , 29.226906, 44.20569 , 44.642628,\n",
       "       27.68521 , 28.2572  , 30.42011 , 29.34801 , 28.244967, 35.210087,\n",
       "       25.211992, 29.597244, 21.5273  , 26.443926, 30.653233, 35.55195 ,\n",
       "       32.6186  , 27.03786 , 34.75767 , 30.466022, 48.990047, 28.282507,\n",
       "       35.210087, 37.531204, 24.20305 , 36.29463 , 39.368187, 23.980318,\n",
       "       21.154467, 29.152983, 31.602695, 32.924366, 26.53768 , 29.273136,\n",
       "       39.81694 , 32.574043, 48.9838  , 25.148676, 37.689793, 29.152983,\n",
       "       24.397898, 35.089703, 24.969822, 33.499134, 31.10908 , 28.706005,\n",
       "       29.897083, 30.805756, 30.805756, 28.231056, 31.580004, 26.017363,\n",
       "       42.50422 , 27.897392, 28.702616, 38.159924, 36.228252, 41.82182 ,\n",
       "       29.886625, 27.054554, 32.07451 , 22.058775, 24.698463, 31.88455 ,\n",
       "       27.742208, 25.932768, 28.892586, 28.020546, 29.35335 , 44.041466,\n",
       "       28.406757, 32.316235, 32.574043, 24.444212, 37.254684, 24.636513,\n",
       "       22.913445, 41.52403 , 33.217625, 34.14497 , 29.306215, 29.11871 ,\n",
       "       26.994324, 35.525707, 32.071705, 37.885963, 23.824656, 20.824648,\n",
       "       29.008303, 37.976418, 35.12391 , 41.809456, 28.316692, 31.580004,\n",
       "       30.396437, 28.615421, 34.301086, 23.493233, 31.640694, 30.490831,\n",
       "       43.548267, 30.895197, 38.999313, 24.798866, 30.895197, 25.454605,\n",
       "       47.064465, 29.991373, 27.54955 , 30.478369, 27.124048, 40.109253,\n",
       "       34.87096 , 27.307041, 35.34565 , 36.48444 , 35.429283, 26.856546,\n",
       "       34.398373, 32.98097 , 27.857924, 41.010498, 20.824648, 25.826155,\n",
       "       41.761295, 43.91928 , 29.507067, 30.42011 , 39.623463, 28.892586,\n",
       "       27.124048, 24.791395, 25.288797, 31.484072, 36.48444 , 31.699804,\n",
       "       21.254164, 41.604668, 46.893284, 30.42011 , 42.375526, 41.755108,\n",
       "       23.980988, 29.020708, 42.046623, 30.022972, 28.5947  , 42.874565,\n",
       "       32.224297, 38.07857 , 33.18503 , 30.14998 , 24.45879 , 38.873955,\n",
       "       32.924366, 26.856546, 40.87958 , 46.893284, 39.24391 , 34.915646,\n",
       "       28.574049, 42.823074, 42.930325, 28.556217, 28.34045 , 25.984907,\n",
       "       24.861912, 34.406742, 38.873955, 47.977184, 27.26139 , 29.240664,\n",
       "       29.088154, 24.174622, 36.64158 , 34.78237 , 27.465252, 35.8589  ,\n",
       "       36.609818, 24.969822, 30.255938, 34.3915  , 38.873955, 32.924366,\n",
       "       36.64158 , 29.195427, 31.580004, 27.687592, 27.358862, 27.54955 ,\n",
       "       28.33828 , 29.330105, 41.523617, 35.26662 , 28.574049, 24.178562,\n",
       "       30.805756, 29.092777, 25.67851 , 33.323505, 28.2572  , 46.900833],\n",
       "      dtype=float32)"
      ]
     },
     "execution_count": 24,
     "metadata": {},
     "output_type": "execute_result"
    }
   ],
   "source": [
    "predictions"
   ]
  },
  {
   "cell_type": "code",
   "execution_count": 25,
   "id": "39df5f97",
   "metadata": {},
   "outputs": [
    {
     "name": "stdout",
     "output_type": "stream",
     "text": [
      "MSE: 0.40580212113113423\n"
     ]
    }
   ],
   "source": [
    "mse=metrics.mean_squared_error(y_test,predictions)\n",
    "print('MSE:',mse)"
   ]
  },
  {
   "cell_type": "code",
   "execution_count": 27,
   "id": "e64343a5",
   "metadata": {},
   "outputs": [
    {
     "name": "stdout",
     "output_type": "stream",
     "text": [
      "R2 Score: 0.9898158284430045\n"
     ]
    }
   ],
   "source": [
    "r2=metrics.r2_score(y_test,predictions)\n",
    "print('R2 Score:',r2)"
   ]
  },
  {
   "cell_type": "code",
   "execution_count": null,
   "id": "da8c0329",
   "metadata": {},
   "outputs": [],
   "source": []
  }
 ],
 "metadata": {
  "kernelspec": {
   "display_name": "Python 3 (ipykernel)",
   "language": "python",
   "name": "python3"
  },
  "language_info": {
   "codemirror_mode": {
    "name": "ipython",
    "version": 3
   },
   "file_extension": ".py",
   "mimetype": "text/x-python",
   "name": "python",
   "nbconvert_exporter": "python",
   "pygments_lexer": "ipython3",
   "version": "3.11.3"
  }
 },
 "nbformat": 4,
 "nbformat_minor": 5
}
